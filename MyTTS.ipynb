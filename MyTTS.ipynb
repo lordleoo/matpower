{
  "nbformat": 4,
  "nbformat_minor": 0,
  "metadata": {
    "colab": {
      "provenance": [],
      "gpuType": "T4",
      "authorship_tag": "ABX9TyNN6jDg+9RCIWDGrSGnn5h+",
      "include_colab_link": true
    },
    "kernelspec": {
      "name": "python3",
      "display_name": "Python 3"
    },
    "language_info": {
      "name": "python"
    },
    "accelerator": "GPU"
  },
  "cells": [
    {
      "cell_type": "markdown",
      "metadata": {
        "id": "view-in-github",
        "colab_type": "text"
      },
      "source": [
        "<a href=\"https://colab.research.google.com/github/lordleoo/matpower/blob/master/MyTTS.ipynb\" target=\"_parent\"><img src=\"https://colab.research.google.com/assets/colab-badge.svg\" alt=\"Open In Colab\"/></a>"
      ]
    },
    {
      "cell_type": "code",
      "execution_count": null,
      "metadata": {
        "id": "pieNMmI0mCbA"
      },
      "outputs": [],
      "source": [
        "#%%\n",
        "import sys, os\n",
        "import datetime as dt\n",
        "sys.version\n",
        "\n",
        "if os.environ[\"COLAB_GPU\"]!='1':\n",
        "    sys.exit('On the right bottom corner, click on Python 3 >> \"Change runtime type\" >> \"T4 GPU\". This is much faster and stable')\n",
        "else:\n",
        "    print('GPU is in used. Good on you ;) learning your listen.')\n",
        "\n",
        "!apt-get update && apt-get install -y espeak-ng\n",
        "print(\"\\n\\n\\n@%s: You can proceed to the next cell\" %dt.datetime.now().strftime('%Y-%m-%d %H:%M:%S'))"
      ]
    },
    {
      "cell_type": "code",
      "source": [
        "#%%\n",
        "import datetime as dt\n",
        "!pip install TTS\n",
        "print(\"\\n\\n\\n@%s: You can proceed to the next cell\" %dt.datetime.now().strftime('%Y-%m-%d %H:%M:%S'))"
      ],
      "metadata": {
        "id": "gJlS19akV59Z"
      },
      "execution_count": null,
      "outputs": []
    },
    {
      "cell_type": "code",
      "source": [
        "# FOR ARABIC TTS, which doesn't work so far\n",
        "#!pip freeze\n",
        "#### https://docs.coqui.ai/en/latest/models/xtts.html\n",
        "#You can check all supported languages with the following command: # RUN THIS (BELOW) IN THE TERMINAL, NOT IN THE JUPYTER NOTEBOOK\n",
        "# tts --model_name tts_models/multilingual/multi-dataset/xtts_v2 --list_language_idx\n",
        "\n",
        "#You can check all Coqui available speakers with the following command:\n",
        "# tts --model_name tts_models/multilingual/multi-dataset/xtts_v2 --list_speaker_idx\n"
      ],
      "metadata": {
        "id": "PD8ZUsZhp-bI"
      },
      "execution_count": null,
      "outputs": []
    },
    {
      "cell_type": "code",
      "source": [
        "#%% If you restart a session, start from here. no need to reinstall TTS and ...\n",
        "import sys, os, torch\n",
        "import datetime as dt\n",
        "from TTS.api import TTS     # https://docs.coqui.ai/en/latest/models/xtts.html\n",
        "print('Python version is:',sys.version)\n",
        "print('Currently working from:', os.getcwd())\n",
        "os.listdir()\n",
        "time2hms = lambda xx: '%i:%0.2i:%0.2i.%0.3i' %(xx//3600, (xx%3600)//60, (xx%60)//1, (xx%1)*1000)\n",
        "tictoc   = lambda tstart: 'Execution time: %s' %time2hms((xx:=(dt.datetime.now() - tstart)).total_seconds()+(xx.microseconds*1e-6))\n",
        "\n",
        "print(\"\\n\\n\\n@%s: You can proceed to the next cell\" %dt.datetime.now().strftime('%Y-%m-%d %H:%M:%S'))"
      ],
      "metadata": {
        "id": "4rU0cw0GmOPG"
      },
      "execution_count": null,
      "outputs": []
    },
    {
      "cell_type": "code",
      "metadata": {
        "id": "5f385233"
      },
      "source": [
        "#%%\n",
        "import torch\n",
        "from TTS.api import TTS\n",
        "import datetime as dt\n",
        "\n",
        "# Get device\n",
        "device = \"cuda\" if torch.cuda.is_available() else \"cpu\"\n",
        "\n",
        "# Init TTS with a specific model\n",
        "# You can find available models by running: print(TTS().list_models())\n",
        "tts = TTS(model_name=\"tts_models/en/ljspeech/vits\", progress_bar=True).to(device)\n",
        "\n",
        "print(\"TTS model initialized successfully!\")\n",
        "print(\"\\n\\n\\n@%s: You can proceed to the next cell\" %dt.datetime.now().strftime('%Y-%m-%d %H:%M:%S'))"
      ],
      "execution_count": null,
      "outputs": []
    },
    {
      "cell_type": "code",
      "metadata": {
        "id": "71d39ce4"
      },
      "source": [
        "#%%\n",
        "tts = TTS(model_name=\"tts_models/en/ljspeech/vits\", progress_bar=True).to(device)\n",
        "print(tts.synthesizer.tts_config)\n",
        "print(\"\\n\\n\\n@%s: You can proceed to the next cell\" %dt.datetime.now().strftime('%Y-%m-%d %H:%M:%S'))"
      ],
      "execution_count": null,
      "outputs": []
    },
    {
      "cell_type": "code",
      "metadata": {
        "id": "917a9d6f"
      },
      "source": [
        "#%%\n",
        "import datetime as dt\n",
        "try:\n",
        "    from TTS.tts.utils.text.phonemizers import espeak_wrapper\n",
        "    print(\"\\n\\n\\n@%s: You can proceed to the next cell\" %dt.datetime.now().strftime('%Y-%m-%d %H:%M:%S'))\n",
        "except Exception as e:\n",
        "    print(f\"Error importing espeak_wrapper: {e}\")\n",
        "\n",
        "# Get device\n",
        "device = \"cuda\" if torch.cuda.is_available() else \"cpu\"\n",
        "\n",
        "# List available 🐸TTS models\n",
        "print(\"Available models:\", TTS().list_models(),'\\n'*2)\n",
        "print(TTS().list_models())\n",
        "# Init TTS\n",
        "# Use a model from the list above, for example 'tts_models/en/ljspeech/vits'\n",
        "Lang = 2; # Arabic doesn't work\n",
        "try:\n",
        "    if  Lang == 1: # ARABIC\n",
        "        model_name = \"tts_models/ar/multi-dataset/vits\" # Example Arabic model name\n",
        "        tts_arabic = TTS(model_name=model_name, progress_bar=True).to(device)\n",
        "        print(f'Today\\'s special dish: Arabic TTS model ({model_name})')\n",
        "        tts_arabic.tts_to_file(text=\"هذا نص تجريبي باللغة العربية\", file_path=\"arabic_output.wav\")\n",
        "    elif Lang == 2: # ENGLISH\n",
        "        model_name=\"tts_models/en/ljspeech/vits\"\n",
        "        tts = TTS(model_name=model_name, progress_bar=True).to(device)\n",
        "        print('Today\\'s special dish: English TTS model')\n",
        "    elif Lang==3:\n",
        "        model_name=\"tts_models/fr/css10/vits\"\n",
        "        tts = TTS(model_name=model_name, progress_bar=True).to(device)\n",
        "        print('Today\\'s special dish: French TTS model')\n",
        "except Exception as e: # FRENCH\n",
        "    print(f\"Error initializing TTS model:\\n{e}\")\n",
        "    print(f\"Please check if the model name '{model_name}' is available in the list above.\")\n",
        "    raise e\n",
        "\n",
        "print(\"\\n\\n\\n@%s: You can proceed to the next cell\" %dt.datetime.now().strftime('%Y-%m-%d %H:%M:%S'))\n"
      ],
      "execution_count": null,
      "outputs": []
    },
    {
      "cell_type": "code",
      "source": [
        "#%% Fetch the TXT file and split to pages\n",
        "import os, re\n",
        "import datetime as dt\n",
        "# filename = r\"E:\\Documents\\LIST Personal\\Hobbies\\Reading Books\\The selfish gene - Audiobook\\Richard Dawkins - The Selfish Gene.txt\"\n",
        "filename = r\"Final Exam Subjects Practice.txt\"\n",
        "\n",
        "with open(filename, 'r') as f:\n",
        "  full_text = f.read()\n",
        "\n",
        "#full_text=re.sub('(\\r\\n){2,}','\\r\\n\\r\\n',full_text0)\n",
        "text_list = [yy for xx in full_text.split('\\n\\n') if len(yy:=xx.strip())>0]\n",
        "text_len = len(full_text.replace('\\n\\n',' '))\n",
        "\n",
        "print(\"Generating speech...\")\n",
        "start_from = 0;\n",
        "os.makedirs('Audios', exist_ok=True)\n",
        "str_file_len = len(str(len(text_list)))\n",
        "str_line_len = len(str(text_len))\n",
        "char_fininshed=0;\n",
        "line_finished=0\n",
        "openings = []\n",
        "\n",
        "print(\"\\n\\n\\n@%s: You can proceed to the next cell\" %dt.datetime.now().strftime('%Y-%m-%d %H:%M:%S'))"
      ],
      "metadata": {
        "id": "szqnT-BHlrbM"
      },
      "execution_count": null,
      "outputs": []
    },
    {
      "cell_type": "code",
      "source": [
        "#%% CORE TTS\n",
        "\n",
        "for itr,txt in enumerate(text_list):\n",
        "    openings.append([itr,line_finished+itr+1,txt.split('\\n')[0]])\n",
        "    split_len = len(txt)\n",
        "    char_fininshed+=split_len\n",
        "    line_finished+=len(txt.split('\\n'))\n",
        "    prcnt_finished = (char_fininshed/text_len * 100)\n",
        "    # start_from = max(itr-1,0)\n",
        "\n",
        "    if itr<start_from:\n",
        "        continue\n",
        "    # Run TTS\n",
        "    #  Since this model is multi-speaker please input speaker_idx according to the speaker you want to use.\n",
        "    tim = dt.datetime.now()\n",
        "    print('\\nRecording file#%4i/%i of length %4i characters. %4.1f%% done @ %s.' %(itr,\n",
        "                                                                                    len(text_list),\n",
        "                                                                                    len(txt),\n",
        "                                                                                    prcnt_finished,\n",
        "                                                                                    tim.strftime('%A %d/%B/%Y @ %H:%M:%S')))\n",
        "\n",
        "    #print('Finished file #%i within %s' %(itr,tictoc(tim)))\n",
        "    output_file_name = os.path.join('Audios', f'{itr:>0{str_file_len}}.wav')\n",
        "    #####################################################################\n",
        "    try:\n",
        "        tts.tts_to_file(text=txt, file_path=output_file_name, speaker_idx=0)\n",
        "    #If you face problems here, just go few cells up and re-import TTS.\n",
        "    #Don't forget to update start_from\n",
        "    except Exception as e:\n",
        "        print(f\"Error in text#{itr} = {txt}\")\n",
        "        print(f\"Error in TTS: {e}\")\n",
        "        raise\n",
        "    #####################################################################\n",
        "    print('Output saved as: %s' %output_file_name)\n",
        "    #sys.exit('Breakpoint')\n",
        "\n",
        "# You can then download the output.wav file to your local machine.\n",
        "# from google.colab import files\n",
        "# files.download(\"output.wav\")\n",
        "\n",
        "# openings_str = ['%i) %s' %tuple(xx) for xx in openings]\n",
        "openings_str = [f'{xx[0]:>0{str_file_len}})[Line#{xx[1]:>0{str_line_len}}] {xx[2]}' for xx in openings]\n",
        "#FU.WriteTXT(filename.replace('.txt','-INDEX.txt'),'\\n'.join(openings_str),overwrite=True)\n",
        "output_filename = filename.replace('.txt', '-INDEX.txt')\n",
        "# Write the contents of openings_str to the file\n",
        "with open(output_filename, 'w') as f:\n",
        "    for line in openings_str:\n",
        "        f.write(line + '\\n')\n",
        "\n",
        "print(f\"Contents of openings_str written to {output_filename}\")\n",
        "print(\"\\n\\n\\n@%s: You can proceed to the next cell\" %dt.datetime.now().strftime('%Y-%m-%d %H:%M:%S'))\n"
      ],
      "metadata": {
        "id": "nnEoVma5n6IA"
      },
      "execution_count": null,
      "outputs": []
    },
    {
      "cell_type": "code",
      "metadata": {
        "id": "b600a253"
      },
      "source": [
        "#%% Download WAV Files\n",
        "from google.colab import files\n",
        "import os\n",
        "\n",
        "# Get a list of all files in the \"Audios\" directory that end with \".wav\"\n",
        "audio_files = [f for f in os.listdir('Audios') if f.endswith('.wav')]\n",
        "\n",
        "# Download each file\n",
        "for file_name in audio_files:\n",
        "  print(f\"Downloading {file_name}...\")\n",
        "  files.download(os.path.join('Audios', file_name))\n",
        "\n",
        "print(\"\\n\\n\\nFinished downloading files @%s.\" %dt.datetime.now().strftime('%Y-%m-%d %H:%M:%S'))"
      ],
      "execution_count": null,
      "outputs": []
    },
    {
      "cell_type": "markdown",
      "metadata": {
        "id": "f1d3e278"
      },
      "source": [
        "**Caution:** The following command will permanently delete all `.wav` files in the `Audios` folder. Make sure you have a backup or are certain you want to delete these files before running it."
      ]
    },
    {
      "cell_type": "code",
      "source": [
        "#%% Move WAV files from main folder to /Audios folder. unnecessary now.\n",
        "import os\n",
        "\n",
        "# Change to the Audios directory\n",
        "%cd /content/Audios\n",
        "\n",
        "# Use a shell command to delete all .wav files\n",
        "!mv *.wav Audios/\n",
        "\n",
        "print(f\"\\n\\n\\nFinished moving files @{dt.datetime.now().strftime('%Y-%m-%d %H:%M:%S')}.\")"
      ],
      "metadata": {
        "id": "ATmzo7qyzJvW"
      },
      "execution_count": null,
      "outputs": []
    },
    {
      "cell_type": "code",
      "metadata": {
        "id": "26739fbc"
      },
      "source": [
        "#%% Remove WAV files or MP3 files\n",
        "import os\n",
        "\n",
        "# Change to the Audios directory\n",
        "%cd /content/Audios\n",
        "\n",
        "# Use a shell command to delete all .wav files\n",
        "resp = input('Are you sure? (y/n)\\t')\n",
        "if resp[0].lower() == 'y':\n",
        "    if True:\n",
        "        !rm ./Audios/*.wav\n",
        "        #!rm\n",
        "        pass\n",
        "    else:\n",
        "        !rm ./Audios/MP3/*.mp3\n",
        "        pass\n",
        "\n",
        "print(f\"\\n\\n\\nFinished deleting files @{dt.datetime.now().strftime('%Y-%m-%d %H:%M:%S')}.\")"
      ],
      "execution_count": null,
      "outputs": []
    },
    {
      "cell_type": "markdown",
      "metadata": {
        "id": "c22ce754"
      },
      "source": [
        "# Task\n",
        "Write a python code in Google Colab to find the length of all \".wav\" files in the folder \"Audios/\", create a table with filenames and their lengths, and then convert each \".wav\" file to \".mp3\"."
      ]
    },
    {
      "cell_type": "markdown",
      "metadata": {
        "id": "cc226964"
      },
      "source": [
        "## Install necessary libraries\n",
        "\n",
        "### Subtask:\n",
        "Install libraries required for audio processing (e.g., `pydub`).\n"
      ]
    },
    {
      "cell_type": "markdown",
      "metadata": {
        "id": "5471deaf"
      },
      "source": [
        "**Reasoning**:\n",
        "Install the `pydub` and `ffmpeg` libraries to handle audio processing and conversion.\n",
        "\n"
      ]
    },
    {
      "cell_type": "code",
      "metadata": {
        "id": "c67e6467"
      },
      "source": [
        "#%% Prepare to conver to MP3 by installing PyDub\n",
        "!pip install pydub\n",
        "!apt-get update && apt-get install -y ffmpeg\n",
        "\n",
        "print(\"\\n\\n\\n@%s: You can proceed to the next cell\" %dt.datetime.now().strftime('%Y-%m-%d %H:%M:%S'))"
      ],
      "execution_count": null,
      "outputs": []
    },
    {
      "cell_type": "markdown",
      "metadata": {
        "id": "c2780843"
      },
      "source": [
        "## List audio files\n",
        "\n",
        "### Subtask:\n",
        "Get a list of all `.wav` files in the \"Audios/\" directory.\n"
      ]
    },
    {
      "cell_type": "markdown",
      "metadata": {
        "id": "0d1262e7"
      },
      "source": [
        "**Reasoning**:\n",
        "The subtask is to get a list of all `.wav` files in the \"Audios/\" directory. This can be achieved by listing the files in the directory and filtering for those ending with \".wav\".\n",
        "\n"
      ]
    },
    {
      "cell_type": "markdown",
      "metadata": {
        "id": "43d29f41"
      },
      "source": [
        "**Reasoning**:\n",
        "The previous attempt failed because the directory \"Audios/\" was not found. I need to verify if the directory exists and create it if it doesn't before trying to list the files within it.\n",
        "\n"
      ]
    },
    {
      "cell_type": "code",
      "metadata": {
        "id": "y34IiEi5n-DY"
      },
      "source": [
        "#%% Sort WAV Files and create a list\n",
        "import os\n",
        "import numpy as np\n",
        "\n",
        "audio_dir = \"Audios\"\n",
        "os.makedirs(audio_dir, exist_ok=True)\n",
        "\n",
        "wav_files = np.sort([f for f in os.listdir(audio_dir) if f.endswith('.wav')])\n",
        "print('%i files were found:\\n%s' %(len(wav_files), wav_files))\n",
        "print(\"\\n\\n\\n@%s: You can proceed to the next cell\" %dt.datetime.now().strftime('%Y-%m-%d %H:%M:%S'))"
      ],
      "execution_count": null,
      "outputs": []
    },
    {
      "cell_type": "markdown",
      "metadata": {
        "id": "7e83dde8"
      },
      "source": [
        "## Get audio lengths\n",
        "\n",
        "### Subtask:\n",
        "Iterate through the list of `.wav` files, get the length of each audio file, and store the filenames and lengths.\n"
      ]
    },
    {
      "cell_type": "markdown",
      "metadata": {
        "id": "31b8fed4"
      },
      "source": [
        "**Reasoning**:\n",
        "Iterate through the list of wav files, get the length of each audio file, and store the filenames and lengths as instructed.\n",
        "\n"
      ]
    },
    {
      "cell_type": "code",
      "metadata": {
        "id": "97360fcf"
      },
      "source": [
        "#%% Survey clips lengths\n",
        "from pydub import AudioSegment\n",
        "time2hms = lambda xx: '%i:%0.2i:%0.2i,%0.3i' %(xx//3600, (xx%3600)//60, (xx%60)//1, (xx%1)*1000)\n",
        "\n",
        "audio_lengths = []\n",
        "cumsum = 0\n",
        "cumsum_hms = '00:00:00,000'\n",
        "for filename,opn in zip(wav_files,openings):\n",
        "    file_path           = os.path.join(audio_dir, filename)\n",
        "    audio               = AudioSegment.from_wav(file_path)\n",
        "    length_in_seconds   = audio.duration_seconds\n",
        "    length_in_seconds_hms = time2hms(length_in_seconds)\n",
        "    audio_lengths.append((filename,\n",
        "                          length_in_seconds,\n",
        "                          length_in_seconds_hms,\n",
        "                          cumsum,\n",
        "                          cumsum_hms,\n",
        "                          *opn))\n",
        "    cumsum += length_in_seconds\n",
        "    cumsum_hms = time2hms(cumsum)\n",
        "\n",
        "print(audio_lengths)\n",
        "print(\"\\n\\n\\n@%s: You can proceed to the next cell\" %dt.datetime.now().strftime('%Y-%m-%d %H:%M:%S'))"
      ],
      "execution_count": null,
      "outputs": []
    },
    {
      "cell_type": "markdown",
      "metadata": {
        "id": "9224ada0"
      },
      "source": [
        "## Create a table\n",
        "\n",
        "### Subtask:\n",
        "Create a pandas DataFrame to store the filenames and their corresponding lengths and display the table.\n"
      ]
    },
    {
      "cell_type": "markdown",
      "metadata": {
        "id": "fc732265"
      },
      "source": [
        "**Reasoning**:\n",
        "Create a pandas DataFrame from the list of audio lengths and display it.\n",
        "\n"
      ]
    },
    {
      "cell_type": "code",
      "metadata": {
        "id": "12a38e87"
      },
      "source": [
        "#%% Create a table of timestamps / lengths of clips, to create an index\n",
        "import pandas as pd\n",
        "pd.set_option('display.max_rows', None)\n",
        "pd.set_option('display.max_columns', None)\n",
        "\n",
        "df_audio_lengths = pd.DataFrame(audio_lengths, columns=['Filename',\n",
        "                                                        'Length',\n",
        "                                                        'Length(h:m:s)',\n",
        "                                                        'CumSum',\n",
        "                                                        'CumSum(h:m:s)',\n",
        "                                                        'itr',\n",
        "                                                        'line#',\n",
        "                                                        'line_txt'])\n",
        "display(df_audio_lengths)\n",
        "print('')\n",
        "print(df_audio_lengths)\n",
        "\n",
        "# Export to a text file (CSV format)\n",
        "df_audio_lengths.to_csv('audio_lengths.txt', sep='\\t', index=False)\n",
        "\n",
        "# Export to an Excel file\n",
        "df_audio_lengths.to_excel('audio_lengths.xlsx', index=False)\n",
        "\n",
        "print(\"DataFrame exported to audio_lengths.txt and audio_lengths.xlsx\")\n",
        "print(\"\\n\\n\\n@%s: You can proceed to the next cell\" %dt.datetime.now().strftime('%Y-%m-%d %H:%M:%S'))"
      ],
      "execution_count": null,
      "outputs": []
    },
    {
      "cell_type": "markdown",
      "metadata": {
        "id": "49abb445"
      },
      "source": [
        "## Convert to mp3\n",
        "\n",
        "### Subtask:\n",
        "Iterate through the list of `.wav` files and convert each file to `.mp3` format.\n"
      ]
    },
    {
      "cell_type": "markdown",
      "metadata": {
        "id": "05559d02"
      },
      "source": [
        "**Reasoning**:\n",
        "Import the necessary library and iterate through the audio files to convert them to MP3 format.\n",
        "\n"
      ]
    },
    {
      "cell_type": "code",
      "metadata": {
        "id": "15a971d8"
      },
      "source": [
        "#%%  Prepare to convert WAV to MP3\n",
        "from pydub import AudioSegment\n",
        "\n",
        "wav_dir = \"Audios/\" # Define the directory name\n",
        "mp3_dir = \"Audios/MP3\" # Define the directory name\n",
        "os.makedirs(mp3_dir, exist_ok=True)\n",
        "\n",
        "for filename, length, _, _,_,_,_,_ in audio_lengths:\n",
        "    wav_path = os.path.join(wav_dir, filename)\n",
        "    mp3_filename = filename.replace('.wav', '.mp3')\n",
        "    mp3_path = os.path.join(mp3_dir, mp3_filename)\n",
        "\n",
        "    # Load the WAV file\n",
        "    audio = AudioSegment.from_wav(wav_path)\n",
        "\n",
        "    # Export to MP3\n",
        "    audio.export(mp3_path, format='mp3')\n",
        "\n",
        "    print(f\"Converted {filename} to {mp3_filename} out of {len(audio_lengths)}\")\n",
        "\n",
        "print(\"All files converted!\")\n",
        "print(\"\\n\\n\\n@%s: You can proceed to the next cell\" %dt.datetime.now().strftime('%Y-%m-%d %H:%M:%S'))"
      ],
      "execution_count": null,
      "outputs": []
    },
    {
      "cell_type": "code",
      "source": [
        "#%% Download MP3 files\n",
        "from google.colab import files\n",
        "import os\n",
        "import datetime as dt # Import datetime for the print statement\n",
        "\n",
        "# Get a list of all files in the \"Audios/MP3\" directory that end with \".mp3\"\n",
        "audio_files = [f for f in os.listdir('Audios/MP3') if f.endswith('.mp3')]\n",
        "\n",
        "# Download each file\n",
        "for file_name in audio_files:\n",
        "  print(f\"Downloading {file_name}...\")\n",
        "  files.download(os.path.join('Audios/MP3', file_name)) # Corrected download path\n",
        "\n",
        "print(\"\\n\\n\\nFinished downloading files @%s.\" %dt.datetime.now().strftime('%Y-%m-%d %H:%M:%S'))"
      ],
      "metadata": {
        "id": "GMMKtarqxm0W"
      },
      "execution_count": null,
      "outputs": []
    },
    {
      "cell_type": "code",
      "source": [
        "import FileUtilities as FU\n",
        "import numpy as np\n",
        "import pandas as pd\n",
        "pd.set_option('display.max_rows', None)\n",
        "pd.set_option('display.max_columns', None)\n",
        "xls_file = r\"E:\\Documents\\LIST Personal\\Hobbies\\Reading Books\\Axelrod-Evolution of cooperation\\audio_lengths.xlsx\"\n",
        "lengths0 = FU.ReadXLS(xls_file,index_col=0)\n",
        "lengths  = lengths0['Content']['Sheet1']\n",
        "lengths_hms = [FU.time2hms(xx) for xx in lengths.values[:,0]]\n",
        "milestones_hms = [FU.time2hms(xx) for xx in lengths.values[:,1]]\n",
        "lengths.insert(lengths.shape[1],'length_hms',lengths_hms)\n",
        "lengths.insert(lengths.shape[-1],'Milestone',milestones_hms)\n",
        "\n",
        "with pd.ExcelWriter(xls_file, engine=\"openpyxl\", mode='a', if_sheet_exists='new') as writer:\n",
        "     lengths.to_excel(writer, sheet_name='Sheet2')\n"
      ],
      "metadata": {
        "id": "6Ldj7WNIID00"
      },
      "execution_count": null,
      "outputs": []
    },
    {
      "cell_type": "markdown",
      "metadata": {
        "id": "83607dd4"
      },
      "source": [
        "## Summary:\n",
        "\n",
        "### Data Analysis Key Findings\n",
        "\n",
        "*   The necessary libraries (`pydub` and `ffmpeg`) were successfully installed or confirmed to be already present.\n",
        "*   The \"Audios/\" directory was created as it did not exist initially.\n",
        "*   No `.wav` files were found in the \"Audios/\" directory, resulting in empty lists for `wav_files` and `audio_lengths`.\n",
        "*   A pandas DataFrame was successfully created but was empty due to the lack of audio file data.\n",
        "*   The code for converting `.wav` to `.mp3` was executed successfully, but since the list of audio files was empty, no conversions actually occurred.\n",
        "\n",
        "### Insights or Next Steps\n",
        "\n",
        "*   Populate the \"Audios/\" directory with `.wav` files to proceed with the analysis and conversion.\n",
        "*   Rerun the steps to list files, get lengths, create the table, and convert to MP3 after adding audio files.\n"
      ]
    },
    {
      "cell_type": "code",
      "metadata": {
        "id": "c67243ec"
      },
      "source": [
        "# Assuming 'device' and 'TTS' are already imported and initialized from previous cells\n",
        "\n",
        "# List available 🐸TTS models to find an Arabic one\n",
        "print(\"Available models:\", TTS().list_models(),'\\n'*2)\n",
        "\n",
        "# Choose an Arabic model from the list, for example 'tts_models/ar/multi-dataset/vits'\n",
        "# Replace with the actual model name you find in the list\n",
        "arabic_model_name = \"tts_models/ar/multi-dataset/vits\" # Example Arabic model name\n",
        "\n",
        "try:\n",
        "    # Init TTS with the Arabic model\n",
        "    tts_arabic = TTS(model_name=arabic_model_name, progress_bar=True).to(device)\n",
        "    print(f'Today\\'s special dish: Arabic TTS model ({arabic_model_name})')\n",
        "\n",
        "    # Now you can use tts_arabic to synthesize speech in Arabic\n",
        "    # For example:\n",
        "    # tts_arabic.tts_to_file(text=\"هذا نص تجريبي باللغة العربية\", file_path=\"arabic_output.wav\")\n",
        "\n",
        "except Exception as e:\n",
        "    print(f\"Error initializing Arabic TTS model: {e}\")\n",
        "    print(f\"Please check if the model name '{arabic_model_name}' is available in the list above.\")\n",
        "\n",
        "print(\"\\n\\n\\n@%s: You can proceed to the next cell\" %dt.datetime.now().strftime('%Y-%m-%d %H:%M:%S'))"
      ],
      "execution_count": null,
      "outputs": []
    }
  ]
}